{
 "cells": [
  {
   "cell_type": "code",
   "execution_count": 1,
   "id": "455af9a1",
   "metadata": {},
   "outputs": [
    {
     "name": "stdout",
     "output_type": "stream",
     "text": [
      "PROGRAM LUAS LINGKARAN\n",
      "Masukkan Panjang Jari-JAri Lingkaran :12\n",
      "Luas Lingkaran adalah :452.15999999999997\n"
     ]
    }
   ],
   "source": [
    "print(\"PROGRAM LUAS LINGKARAN\")\n",
    "phi = 3.14\n",
    "r = float(input(\"Masukkan Panjang Jari-JAri Lingkaran :\"))\n",
    "luas = phi*r*r\n",
    "print(\"Luas Lingkaran adalah :\"+ str(luas))"
   ]
  },
  {
   "cell_type": "code",
   "execution_count": null,
   "id": "6b4c8e17",
   "metadata": {},
   "outputs": [],
   "source": []
  }
 ],
 "metadata": {
  "kernelspec": {
   "display_name": "Python 3",
   "language": "python",
   "name": "python3"
  },
  "language_info": {
   "codemirror_mode": {
    "name": "ipython",
    "version": 3
   },
   "file_extension": ".py",
   "mimetype": "text/x-python",
   "name": "python",
   "nbconvert_exporter": "python",
   "pygments_lexer": "ipython3",
   "version": "3.8.8"
  }
 },
 "nbformat": 4,
 "nbformat_minor": 5
}
